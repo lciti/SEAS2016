{
 "cells": [
  {
   "cell_type": "code",
   "execution_count": 9,
   "metadata": {
    "collapsed": true
   },
   "outputs": [],
   "source": [
    "import numpy as np\n",
    "import scipy as sp\n",
    "import scipy.special\n",
    "import scipy.signal\n",
    "import scipy.linalg\n",
    "%matplotlib inline\n",
    "import matplotlib.pyplot as plt"
   ]
  },
  {
   "cell_type": "code",
   "execution_count": 125,
   "metadata": {},
   "outputs": [],
   "source": [
    "if 1:\n",
    "    ## Generate test data\n",
    "    # Parameters\n",
    "    K = 50\n",
    "    trials = 1\n",
    "    sigma2e = 0.1\n",
    "    varY = np.array([.1, .2])\n",
    "    C = np.array([[1, .1], [-1, 1]])\n",
    "    #\n",
    "    x = sp.signal.lfilter([1], [1, -1], np.sqrt(sigma2e) * np.random.randn(K))\n",
    "    #dN = np.bitwise_xor.accumulate(dN, axis=0)\n",
    "    dN = np.random.rand(K, trials) < np.exp(x[:,None])/(1+np.exp(x[:,None]))\n",
    "    dN = np.sum(dN, axis=1)\n",
    "    Y = C[:,:1].T + np.outer(x, C[:,1]) + np.random.randn(K, len(varY)) * np.sqrt(varY)[None,:]\n",
    "    ll_from_R = np.empty([0,2])"
   ]
  },
  {
   "cell_type": "markdown",
   "metadata": {},
   "source": [
    "## Kalman test code"
   ]
  },
  {
   "cell_type": "code",
   "execution_count": 126,
   "metadata": {
    "collapsed": true
   },
   "outputs": [],
   "source": [
    "def Do_Kalman_Likelihood(y, sigma2obs, sigma2e):\n",
    "    \"\"\"MAP solution, inverse covariance matrix, and marginal loglikelihood of state-space model\n",
    "\n",
    "    :param y: Observations (K,)\n",
    "    :param sigma2obs: Variance of observation noise (can be scalar or vector)\n",
    "    :param sigma2e: Variance of process noise\n",
    "    :return: x_map, L, marginal_loglikelihood, joint_loglikelihood\n",
    "    \"\"\"\n",
    "    # Build diagonals of information matrix\n",
    "    sigma2obs *= np.ones(len(y))\n",
    "    D = 1. / sigma2obs + 2. / sigma2e\n",
    "    D[-1] = 1. / sigma2obs[-1] + 1. / sigma2e\n",
    "    B = -np.ones(len(D)) / sigma2e\n",
    "    B[-1] = 0.\n",
    "    \n",
    "    # Solve, assuming x_init=0 for simplicity\n",
    "    L = sp.linalg.cholesky_banded((D, B), lower=True)\n",
    "    x_map = sp.linalg.cho_solve_banded([L, True], y / sigma2obs)\n",
    "\n",
    "    # Compute joint and marginal probabilities\n",
    "    joint_loglikelihood = -.5 * ((np.sum(np.diff(x_map)**2) + x_map[0]**2) / sigma2e +\n",
    "                                 np.sum((y - x_map)**2 / sigma2obs) +\n",
    "                                 (len(y) * np.log(2*np.pi*sigma2e * 2*np.pi) + np.sum(np.log(sigma2obs))))\n",
    "    marginal_loglikelihood = len(y)/2. * np.log(2*np.pi) + joint_loglikelihood - np.sum(np.log(L[0]))\n",
    "    return x_map, L, marginal_loglikelihood, joint_loglikelihood"
   ]
  },
  {
   "cell_type": "code",
   "execution_count": 127,
   "metadata": {},
   "outputs": [],
   "source": [
    "# Simple test of Do_Kalman_Likelihood only (K=1, Gaussian)\n",
    "import scipy.stats as stats\n",
    "y = 3.\n",
    "sigma2obs = 10.\n",
    "x_map, L, marginal_loglikelihood, joint_loglikelihood = Do_Kalman_Likelihood(y * np.ones(1), sigma2obs, sigma2e)\n",
    "j = stats.norm.pdf(x_map, 0, np.sqrt(sigma2e)) * stats.norm.pdf(x_map, y, np.sqrt(sigma2obs))\n",
    "m = np.sqrt(2*np.pi) * j / L[0,0]\n",
    "assert(abs(np.log(j) - joint_loglikelihood) < 1e-9)\n",
    "assert(abs(np.log(m) - marginal_loglikelihood) < 1e-9)"
   ]
  },
  {
   "cell_type": "markdown",
   "metadata": {},
   "source": [
    "## Likelihood of a state-space model with Bernoulli observations\n",
    "\n",
    "The log-likelihood is\n",
    "\\begin{align*}\n",
    "\\log p(N_{0,K}, x; \\theta) &= \\log p(N_{0,K}|x) + \\log p(Y|x,\\theta) + \\log p(x; \\theta) \\\\\n",
    "&= \\sum\\limits_{k=1}^{K} \\log p(\\Delta N_{k}|x_k) + \\sum\\limits_{k=1}^{K} \\log p(Y_{k}|x_k,\\theta) + \\sum\\limits_{k=1}^{K} \\log p(x_k|x_{k-1}; \\sigma_{\\epsilon}^2) \\\\\n",
    "&= \\sum\\limits_{k=1}^{K} \\left[\\Delta N_{k} \\log\\left(\\frac{e^{x_k}}{1+e^{x_k}}\\right) + (1-\\Delta N_{k}) \\log\\left(\\frac{1}{1+e^{x_k}}\\right) \\right] + \\eta(Y, x; \\theta) + \\pi(x; \\theta)\\\\\n",
    "&= \\sum\\limits_{k=1}^{K} \\left[ \\Delta N_{k} \\, x_k - \\log(1+e^{x_k}) \\right] + \\eta(Y, x; \\theta) + \\pi(x; \\theta)\n",
    "\\end{align*}\n",
    "where\n",
    "\\begin{align*}\n",
    "\\pi(x; \\theta) &= - \\frac{K}{2} \\log(2\\pi\\sigma_{\\epsilon}^2) - \\frac{1}{2\\sigma_{\\epsilon}^2} \\sum\\limits_{k=1}^{K} (x_k - x_{k-1})^2\\\\\n",
    "\\eta(Y, x; \\theta) &= - \\frac{K}{2} \\log(2\\pi) - \\frac{K}{2}\\log\\lvert R \\rvert - \\frac12 \\sum\\limits_{k=1}^{K} (\\beta_0 + x_k \\beta_1 - Y_k)^T R^{-1} (\\beta_0 + x_k \\beta_1 - Y_k)\n",
    "\\end{align*}"
   ]
  },
  {
   "cell_type": "markdown",
   "metadata": {},
   "source": [
    "## Laplace approximation at the MAP"
   ]
  },
  {
   "cell_type": "code",
   "execution_count": 128,
   "metadata": {
    "collapsed": true
   },
   "outputs": [],
   "source": [
    "def Do_Kalman_Likelihood_Bernoulli_And_Gaussian_LaplaceMAP(dN, Y, C, varY, sigma2e, tol=1e-8, trials=1.):\n",
    "    \"\"\"MAP solution, inverse covariance matrix, and marginal loglikelihood of state-space model\n",
    "    computed using Laplace approximation around MAP state.\n",
    "\n",
    "    :param dN: Binomial (or Bernoulli) observations (K,)\n",
    "    :param Y: Gaussian observations (K,M)\n",
    "    :param C: Coefficients of Gaussian observations Y_{k,m} = C_{m,0} + C_{m,1} * x_{k} (M,2)\n",
    "    :param varY: Diagonal of covariance matrix of Gaussian observations (M,)\n",
    "    :param sigma2e: Variance of process noise\n",
    "    :param tol: Convergence criterion on the gradient of the log-likelihood\n",
    "    :param trials: Number of trials for binomial observations (1 for Bernoulli)\n",
    "    :return: x_map, U, marginal_loglikelihood, joint_loglikelihood\n",
    "    \"\"\"\n",
    "    x = np.zeros(dN.shape)\n",
    "    dN = dN.astype(float)\n",
    "    while True:\n",
    "        # Build gradient of joint\n",
    "        d2x = np.convolve(x, [-1, 2, -1])[1:-1]\n",
    "        d2x[-1] -= x[-1]\n",
    "        G = -dN + trials * (1. / (1. + np.exp(-x))) + d2x / sigma2e\n",
    "        G += np.dot(C[:,:1].T + np.outer(x, C[:,1]) - Y, C[:,1] / varY)\n",
    "        # Build Hessian of joint\n",
    "        D = trials / (np.exp(x) + 2. + np.exp(-x)) + (2. / sigma2e + np.dot(C[:,1], C[:,1] / varY))\n",
    "        D[-1] -= 1. / sigma2e\n",
    "        B = -np.ones(len(D)) / sigma2e\n",
    "        B[0] = 0.\n",
    "        U = sp.linalg.cholesky_banded((B, D), lower=False)\n",
    "        # Check convergence\n",
    "        if np.dot(G, G) < tol:\n",
    "            x_map = x\n",
    "            break\n",
    "        # Update estimate of map\n",
    "        x -= sp.linalg.cho_solve_banded([U, False], G)\n",
    "\n",
    "    # Compute joint and marginal probabilities\n",
    "    joint_loglikelihood = (np.sum(np.log(sp.special.binom(trials, dN)) + dN * x_map - trials * np.log(1 + np.exp(x_map)))\n",
    "                           - .5 * (np.sum((C[:,:1].T + np.outer(x, C[:,1]) - Y)**2 / varY[None,:]) + len(dN) * np.log(2*np.pi*np.prod(varY)))\n",
    "                           - .5 * ((np.sum(np.diff(x_map)**2) + x_map[0]**2) / sigma2e + len(dN) * np.log(2*np.pi*sigma2e)))\n",
    "    marginal_loglikelihood = len(dN)/2. * np.log(2*np.pi) + joint_loglikelihood - np.sum(np.log(U[-1]))\n",
    "    return x_map, U, marginal_loglikelihood, joint_loglikelihood"
   ]
  },
  {
   "cell_type": "code",
   "execution_count": 129,
   "metadata": {},
   "outputs": [
    {
     "name": "stdout",
     "output_type": "stream",
     "text": [
      "CPU times: user 0 ns, sys: 0 ns, total: 0 ns\n",
      "Wall time: 903 µs\n",
      "-44.7237395847\n"
     ]
    },
    {
     "data": {
      "image/png": "[encoded data removed]",
      "text/plain": [
       "<matplotlib.figure.Figure at 0x7f148a2a9898>"
      ]
     },
     "metadata": {},
     "output_type": "display_data"
    },
    {
     "data": {
      "text/plain": [
       "[<matplotlib.lines.Line2D at 0x7f1489910b00>]"
      ]
     },
     "execution_count": 129,
     "metadata": {},
     "output_type": "execute_result"
    },
    {
     "data": {
      "image/png": "[encoded data removed]",
      "text/plain": [
       "<matplotlib.figure.Figure at 0x7f1489744198>"
      ]
     },
     "metadata": {},
     "output_type": "display_data"
    }
   ],
   "source": [
    "# Test Marginal_Likelihood using the Laplace approximation around the MAP\n",
    "%time x_map_l, U_l, marginal_loglikelihood_l, joint_loglikelihood_l = Do_Kalman_Likelihood_Bernoulli_And_Gaussian_LaplaceMAP(dN, Y, C, varY, sigma2e, trials=trials)\n",
    "print(marginal_loglikelihood_l)\n",
    "plt.clf()\n",
    "plt.plot(x_map_l)\n",
    "plt.plot(x, 'k--')\n",
    "plt.plot(dN)\n",
    "plt.show()\n",
    "plt.plot(np.exp(x_map_l)/(1+np.exp(x_map_l)))"
   ]
  },
  {
   "cell_type": "code",
   "execution_count": 132,
   "metadata": {},
   "outputs": [
    {
     "data": {
      "text/plain": [
       "[<matplotlib.lines.Line2D at 0x7f148932ff98>]"
      ]
     },
     "execution_count": 132,
     "metadata": {},
     "output_type": "execute_result"
    },
    {
     "data": {
      "image/png": "[encoded data removed]",
      "text/plain": [
       "<matplotlib.figure.Figure at 0x7f14899d6b70>"
      ]
     },
     "metadata": {},
     "output_type": "display_data"
    }
   ],
   "source": [
    "s2e = np.linspace(.01, .3, 50)\n",
    "marginal_loglikelihood_l = np.zeros_like(s2e)\n",
    "joint_loglikelihood_l = np.zeros_like(s2e)\n",
    "for i in range(len(s2e)):\n",
    "    marginal_loglikelihood_l[i], joint_loglikelihood_l[i] = Do_Kalman_Likelihood_Bernoulli_And_Gaussian_LaplaceMAP(dN, Y, C, varY, s2e[i], trials=trials)[2:]\n",
    "plt.clf()\n",
    "plt.plot(s2e, marginal_loglikelihood_l)\n",
    "#plt.show()\n",
    "#plt.plot(s2e, joint_loglikelihood_l)"
   ]
  },
  {
   "cell_type": "markdown",
   "metadata": {},
   "source": [
    "### Expectation-maximization to optimize $\\sigma_{\\epsilon}^2$ using the Laplace approximation at the MAP"
   ]
  },
  {
   "cell_type": "code",
   "execution_count": 15,
   "metadata": {
    "collapsed": true
   },
   "outputs": [],
   "source": [
    "def cov_from_chol_precision(U):\n",
    "    \"\"\"Given the Cholesky factorization (U) of the posterior precision matrix (J), with U^t * U = J,\n",
    "    return the tridiagonal part of the covariance matrix.\n",
    "\n",
    "    :param U: Cholesky factorization (U) of J, given as [0, A; D] where A is the upper diagonal and D the main diagonal\n",
    "    :return: Cov_tri: Tridiagonal part of the covariance matrix returned as [0, C_i,i+1; C_ii; C_i+1,i, 0]\n",
    "    \"\"\"\n",
    "    assert(U.shape[0] == 2 and U[0,0] == 0)\n",
    "    A, D = U # Unpack matrix into first (above) diagonal and diagonal\n",
    "    Cov_tri = np.zeros_like(U)\n",
    "    C, V = Cov_tri # Obtain _views_ into the first diagonal and diagonal\n",
    "    # Compute last element of diagonal\n",
    "    V[-1] = 1. / (D[-1] ** 2)\n",
    "    # Recursively compute other elements of main diagonal and first diagonal\n",
    "    for i in range(len(D)-1, 0, -1):\n",
    "        iD = 1. / D[i-1]\n",
    "        iDA = iD * A[i]\n",
    "        N = -iDA * V[i]\n",
    "        C[i] = N\n",
    "        V[i-1] = iD ** 2 - N * iDA\n",
    "    return Cov_tri"
   ]
  },
  {
   "cell_type": "markdown",
   "metadata": {},
   "source": [
    "# TODO: from here"
   ]
  },
  {
   "cell_type": "code",
   "execution_count": 16,
   "metadata": {
    "collapsed": true
   },
   "outputs": [],
   "source": [
    "def EM_fit_sigma2e_Laplace(dN, sigma2e_init, tol=1e-6, trials=1.):\n",
    "    \"\"\"Optimize sigma2e using the EM algorithm using the Laplace approximation at the MAP.\n",
    "\n",
    "    :param dN: Observations (K,)\n",
    "    :param sigma2e_init: Initial estimate of sigma2e\n",
    "    :param tol: Convergence criterion for the EM\n",
    "    :param trials: Number of trials for binomial observations (1 for Bernoulli)\n",
    "    :return: x_map, U, marginal_loglikelihood, joint_loglikelihood\n",
    "    \"\"\"\n",
    "    sigma2e_old = sigma2e_init\n",
    "    while True:\n",
    "        x_map, U, marginal_loglikelihood, _ = Do_Kalman_Likelihood_Bernoulli_LaplaceMAP(dN, sigma2e_old, trials=trials)\n",
    "        #print(sigma2e, marginal_loglikelihood)\n",
    "        Cov_tri = cov_from_chol_precision(U)\n",
    "        sigma2e = (np.sum(Cov_tri[1]) + np.dot(x_map, x_map) # E[x_k^2]\n",
    "                   + np.sum(Cov_tri[1,:-1]) + np.dot(x_map[:-1], x_map[:-1]) # E[x_{k-1}^2]\n",
    "                   - 2 * np.sum(Cov_tri[0]) - 2 * np.dot(x_map[1:], x_map[:-1])) / len(dN) # E[x_{k-1} * x_k]\n",
    "        if (abs(sigma2e - sigma2e_old) < tol): break\n",
    "        sigma2e_old = sigma2e\n",
    "    return sigma2e"
   ]
  },
  {
   "cell_type": "code",
   "execution_count": 17,
   "metadata": {},
   "outputs": [
    {
     "name": "stdout",
     "output_type": "stream",
     "text": [
      "CPU times: user 1.11 s, sys: 0 ns, total: 1.11 s\n",
      "Wall time: 1.11 s\n",
      "0.104697603827\n"
     ]
    }
   ],
   "source": [
    "%time sigma2e_opt = EM_fit_sigma2e_Laplace(dN, .0019, trials=trials)\n",
    "print(sigma2e_opt)"
   ]
  }
 ],
 "metadata": {
  "kernelspec": {
   "display_name": "Python 3",
   "language": "python",
   "name": "python3"
  },
  "language_info": {
   "codemirror_mode": {
    "name": "ipython",
    "version": 3
   },
   "file_extension": ".py",
   "mimetype": "text/x-python",
   "name": "python",
   "nbconvert_exporter": "python",
   "pygments_lexer": "ipython3",
   "version": "3.5.2"
  }
 },
 "nbformat": 4,
 "nbformat_minor": 1
}
